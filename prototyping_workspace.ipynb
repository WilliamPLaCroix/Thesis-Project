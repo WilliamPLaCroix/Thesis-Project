{
 "cells": [
  {
   "cell_type": "code",
   "execution_count": 1,
   "metadata": {},
   "outputs": [],
   "source": [
    "#!pip install friends\n",
    "import pandas as pd"
   ]
  },
  {
   "cell_type": "code",
   "execution_count": 2,
   "metadata": {},
   "outputs": [
    {
     "name": "stdout",
     "output_type": "stream",
     "text": [
      "                                              source  source_grade  \\\n",
      "0  Heinrich Luitpold Himmler (7 October 1900 - 23...            11   \n",
      "1  She would then recite a verse: When Emily had ...             4   \n",
      "2  Viva la Vida was re-released on 25 November 20...            11   \n",
      "3  However the genre remains a very small proport...            10   \n",
      "4  Villers-sur-F Ã re is a commune in the Aisne d...             6   \n",
      "\n",
      "                                              target  target_grade  \n",
      "0  Heinrich Himmler (October 7, 1900 - May 23, 19...            10  \n",
      "1      When Emily had left, Bagpuss would wake up.\\n             3  \n",
      "2                   \"Prospekts March\\/Poppyfields\"\\n            13  \n",
      "3  However the area is still a very small groupin...             7  \n",
      "4  Villers-sur-F Ã re is a commune. It is found i...             3  \n",
      "[10  3 13  7  0 11  6 12  2  1  5  8  4  9]\n"
     ]
    }
   ],
   "source": []
  }
 ],
 "metadata": {
  "kernelspec": {
   "display_name": "Python 3",
   "language": "python",
   "name": "python3"
  },
  "language_info": {
   "codemirror_mode": {
    "name": "ipython",
    "version": 3
   },
   "file_extension": ".py",
   "mimetype": "text/x-python",
   "name": "python",
   "nbconvert_exporter": "python",
   "pygments_lexer": "ipython3",
   "version": "3.11.5"
  }
 },
 "nbformat": 4,
 "nbformat_minor": 2
}
