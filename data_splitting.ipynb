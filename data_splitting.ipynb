{
 "cells": [
  {
   "cell_type": "code",
   "execution_count": 89,
   "metadata": {},
   "outputs": [],
   "source": [
    "# !pip install friends\n",
    "import pandas as pd\n",
    "\n",
    "train_info = pd.read_csv('./data/wikilarge/grade_ratio_wiki_train.csv')\n",
    "val_info = pd.read_csv('./data/wikilarge/grade_ratio_wiki_val.csv')\n",
    "test_info = pd.read_csv('./data/wikilarge/grade_ratio_wiki_test.csv')\n",
    "\n",
    "with open('./data/wikilarge/wiki_train.src', 'r', encoding='utf-8') as f:\n",
    "    train_src = pd.DataFrame(f.readlines(), columns=['src'])\n",
    "with open('./data/wikilarge/wiki_val.src', 'r', encoding='utf-8') as f:\n",
    "    val_src = pd.DataFrame(f.readlines(), columns=['src'])\n",
    "with open('./data/wikilarge/wiki_test.src', 'r', encoding='utf-8') as f:\n",
    "    test_src = pd.DataFrame(f.readlines(), columns=['src'])\n",
    "\n",
    "with open('./data/wikilarge/wiki_train.tgt', 'r', encoding='utf-8') as f:\n",
    "    train_tgt = pd.DataFrame(f.readlines(), columns=['tgt'])\n",
    "with open('./data/wikilarge/wiki_val.tgt', 'r', encoding='utf-8') as f:\n",
    "    val_tgt = pd.DataFrame(f.readlines(), columns=['tgt'])\n",
    "with open('./data/wikilarge/wiki_test.tgt', 'r', encoding='utf-8') as f:\n",
    "    test_tgt = pd.DataFrame(f.readlines(), columns=['tgt'])\n",
    "\n",
    "train_data = pd.concat([train_info, train_src, train_tgt], axis=1)\n",
    "val_data = pd.concat([val_info, val_src, val_tgt], axis=1)\n",
    "test_data = pd.concat([test_info, test_src, test_tgt], axis=1)\n",
    "\n",
    "all_data = pd.concat([train_data, val_data, test_data], axis=0)\n",
    "# subset to src tgt and grade\n",
    "all_data = all_data[['src', 'tgt', 'abs_tgt_FKGL_Grade', 'abs_src_FKGL_Grade']]\n",
    "# drop duplicates\n",
    "all_data = all_data[all_data['src'] != all_data['tgt']]"
   ]
  },
  {
   "cell_type": "code",
   "execution_count": null,
   "metadata": {},
   "outputs": [
    {
     "name": "stdout",
     "output_type": "stream",
     "text": [
      "0 10062 500 500\n",
      "1 4425 500 500\n",
      "2 7363 500 500\n",
      "3 9668 500 500\n",
      "4 19995 500 500\n",
      "5 12856 500 500\n",
      "6 24563 500 500\n",
      "7 17589 500 500\n",
      "8 22712 500 500\n",
      "9 15058 500 500\n",
      "10 17535 500 500\n",
      "11 8169 500 500\n",
      "12 9968 500 500\n",
      "13 24288 500 500\n"
     ]
    }
   ],
   "source": [
    "from sklearn.model_selection import train_test_split\n",
    "from collections import defaultdict\n",
    "from datasets import DatasetDict, Dataset\n",
    "import pickle\n",
    "groups = all_data.groupby('abs_tgt_FKGL_Grade')\n",
    "\n",
    "group_dict = defaultdict()\n",
    "split_dict = defaultdict()\n",
    "for group in groups:\n",
    "    group_dict[group[0]] = group[1].reset_index(drop=True)\n",
    "\n",
    "for group in group_dict.keys():\n",
    "    train, test_val = train_test_split(group_dict[group], test_size=1000, random_state=42)\n",
    "    val, test = train_test_split(test_val, test_size=0.5, random_state=42)\n",
    "    split_dict[group] = {'train': train.reset_index(), 'val': val.reset_index(), 'test': test.reset_index()}\n",
    "\n",
    "# convert dataframes to datasets and save to pickle format\n",
    "for group in split_dict.keys():\n",
    "    print(group, len(split_dict[group]['train']), len(split_dict[group]['val']), len(split_dict[group]['test']))\n",
    "    train_data = Dataset.from_pandas(split_dict[group]['train'])\n",
    "    val_data = Dataset.from_pandas(split_dict[group]['val'])\n",
    "    test_data = Dataset.from_pandas(split_dict[group]['test'])\n",
    "    dataset_dict = DatasetDict({'train': train_data, 'val': val_data, 'test': test_data})\n",
    "    with open(f'./data/wikilarge/graded_splits/grade_{group}.pkl', 'wb') as f:\n",
    "        pickle.dump(dataset_dict, f)\n"
   ]
  }
 ],
 "metadata": {
  "kernelspec": {
   "display_name": "Python 3",
   "language": "python",
   "name": "python3"
  },
  "language_info": {
   "codemirror_mode": {
    "name": "ipython",
    "version": 3
   },
   "file_extension": ".py",
   "mimetype": "text/x-python",
   "name": "python",
   "nbconvert_exporter": "python",
   "pygments_lexer": "ipython3",
   "version": "3.12.7"
  }
 },
 "nbformat": 4,
 "nbformat_minor": 2
}
