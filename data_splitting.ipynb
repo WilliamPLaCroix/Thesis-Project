{
 "cells": [
  {
   "cell_type": "code",
   "execution_count": 1,
   "metadata": {},
   "outputs": [],
   "source": [
    "# !pip install friends\n",
    "\n",
    "import pandas as pd"
   ]
  },
  {
   "cell_type": "code",
   "execution_count": 4,
   "metadata": {},
   "outputs": [
    {
     "name": "stdout",
     "output_type": "stream",
     "text": [
      "count    216881.000000\n",
      "mean          7.200709\n",
      "std           3.685512\n",
      "min           0.000000\n",
      "25%           4.000000\n",
      "50%           7.000000\n",
      "75%          10.000000\n",
      "max          13.000000\n",
      "Name: abs_tgt_FKGL_Grade, dtype: float64\n"
     ]
    }
   ],
   "source": [
    "train_data = pd.read_csv('./data/wikilarge/wiki_train.csv')\n",
    "\n",
    "train_data.head()\n",
    "print(train_data.abs_tgt_FKGL_Grade.describe())"
   ]
  }
 ],
 "metadata": {
  "kernelspec": {
   "display_name": "Python 3",
   "language": "python",
   "name": "python3"
  },
  "language_info": {
   "codemirror_mode": {
    "name": "ipython",
    "version": 3
   },
   "file_extension": ".py",
   "mimetype": "text/x-python",
   "name": "python",
   "nbconvert_exporter": "python",
   "pygments_lexer": "ipython3",
   "version": "3.12.7"
  }
 },
 "nbformat": 4,
 "nbformat_minor": 2
}
