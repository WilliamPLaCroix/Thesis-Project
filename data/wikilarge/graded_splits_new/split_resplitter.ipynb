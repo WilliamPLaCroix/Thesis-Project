{
 "cells": [
  {
   "cell_type": "code",
   "execution_count": 1,
   "metadata": {},
   "outputs": [],
   "source": [
    "# recombine grade 6 validate and grade 8 validate into a 6+8 set with equal distribution\n",
    "\n",
    "import pandas as pd\n",
    "import json\n",
    "import os\n",
    "\n",
    "# load grade 6 and grade 8 datasets\n",
    "def combine_and_split(grade1: int, grade2: int) -> None:\n",
    "    with open (f'grade_{grade1}/val.json') as f:\n",
    "        grade1_data = json.load(f)\n",
    "    grade1_dataframe = pd.DataFrame(grade1_data)\n",
    "    with open (f'grade_{grade2}/val.json') as f:\n",
    "        grade2_data = json.load(f)\n",
    "    grade2_dataframe = pd.DataFrame(grade2_data)\n",
    "\n",
    "    grade1_dataframe['label'] = grade1\n",
    "    grade2_dataframe['label'] = grade2\n",
    "\n",
    "\n",
    "    combined = pd.concat([grade1_dataframe, grade2_dataframe], ignore_index=True)\n",
    "\n",
    "    from sklearn.model_selection import train_test_split\n",
    "    val1, val2 = train_test_split(combined, test_size=0.5, random_state=42, stratify=combined['label'])\n",
    "    val1['label'].value_counts()\n",
    "    try:\n",
    "        os.mkdir(f'./grade_{grade1}_{grade2}')\n",
    "    except:\n",
    "        pass\n",
    "    pd.DataFrame(val1).to_json(f'./grade_{grade1}_{grade2}/validate.json', orient='records', indent=2)\n",
    "    pd.DataFrame(val2).to_json(f'./grade_{grade1}_{grade2}/test.json', orient='records', indent=2)"
   ]
  },
  {
   "cell_type": "code",
   "execution_count": 2,
   "metadata": {},
   "outputs": [],
   "source": [
    "grade_mixes = [(3, 11)]\n",
    "\n",
    "for mix in grade_mixes:\n",
    "    combine_and_split(*mix)"
   ]
  },
  {
   "cell_type": "code",
   "execution_count": 3,
   "metadata": {},
   "outputs": [
    {
     "name": "stderr",
     "output_type": "stream",
     "text": [
      "c:\\Users\\William\\AppData\\Local\\Programs\\Python\\Python312\\Lib\\site-packages\\tqdm\\auto.py:21: TqdmWarning: IProgress not found. Please update jupyter and ipywidgets. See https://ipywidgets.readthedocs.io/en/stable/user_install.html\n",
      "  from .autonotebook import tqdm as notebook_tqdm\n"
     ]
    },
    {
     "name": "stdout",
     "output_type": "stream",
     "text": [
      "label\n",
      "4     46\n",
      "11    46\n",
      "12    46\n",
      "7     46\n",
      "2     46\n",
      "9     45\n",
      "3     45\n",
      "8     45\n",
      "10    45\n",
      "5     45\n",
      "6     45\n",
      "Name: count, dtype: int64\n",
      "label\n",
      "5     46\n",
      "6     46\n",
      "8     46\n",
      "10    46\n",
      "3     46\n",
      "12    45\n",
      "9     45\n",
      "4     45\n",
      "2     45\n",
      "7     45\n",
      "11    45\n",
      "Name: count, dtype: int64\n",
      "(500, 4)\n",
      "(500, 4)\n"
     ]
    }
   ],
   "source": [
    "\n",
    "import datasets\n",
    "import pandas as pd\n",
    "import json\n",
    "import os\n",
    "\n",
    "# load grades {2, 3, 4, 5, 6, 7, 8, 9, 10, 11, 12} datasets\n",
    "def combine_and_split_baseline() -> None:\n",
    "    val_sets = []\n",
    "    for grade in range(2, 13):\n",
    "        with open (f'grade_{grade}/val.json') as f:\n",
    "            grade_data = json.load(f)\n",
    "        grade_dataframe = pd.DataFrame(grade_data)\n",
    "        grade_dataframe['label'] = grade\n",
    "        val_sets.append(grade_dataframe)\n",
    "\n",
    "    combined = pd.concat(val_sets, ignore_index=True)\n",
    "\n",
    "    from sklearn.model_selection import train_test_split\n",
    "    val, test = train_test_split(combined, test_size=500, train_size=500, random_state=42, stratify=combined['label'])\n",
    "    print(val['label'].value_counts())\n",
    "    print(test['label'].value_counts())\n",
    "    print(val.shape)\n",
    "    print(test.shape)\n",
    "    try:\n",
    "        os.mkdir(f'./baseline')\n",
    "    except:\n",
    "        pass\n",
    "    pd.DataFrame(val).to_json(f'./baseline/validate.json', orient='records', indent=2)\n",
    "    pd.DataFrame(test).to_json(f'./baseline/test.json', orient='records', indent=2)\n",
    "combine_and_split_baseline()"
   ]
  }
 ],
 "metadata": {
  "kernelspec": {
   "display_name": "Python 3",
   "language": "python",
   "name": "python3"
  },
  "language_info": {
   "codemirror_mode": {
    "name": "ipython",
    "version": 3
   },
   "file_extension": ".py",
   "mimetype": "text/x-python",
   "name": "python",
   "nbconvert_exporter": "python",
   "pygments_lexer": "ipython3",
   "version": "3.12.7"
  }
 },
 "nbformat": 4,
 "nbformat_minor": 2
}
