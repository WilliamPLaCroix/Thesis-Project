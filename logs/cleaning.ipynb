{
 "cells": [
  {
   "cell_type": "code",
   "execution_count": 13,
   "metadata": {},
   "outputs": [],
   "source": [
    "with open(\"llama3_3_sentences.txt\", 'r', encoding='utf-8') as f:\n",
    "    lines = f.readlines()\n",
    "# remove quotation marks and extra spaces\n",
    "lines = [line.replace('\"', '').replace(\"'\", \"\").strip() for line in lines if line != \"\\n\"]\n",
    "with open(\"llama3_3_sentences_cleaned.txt\", 'w', encoding='utf-8') as f:\n",
    "    text = '\\n'.join(lines)\n",
    "    f.write(text)"
   ]
  },
  {
   "cell_type": "code",
   "execution_count": 5,
   "metadata": {},
   "outputs": [
    {
     "name": "stdout",
     "output_type": "stream",
     "text": [
      "9.7\n"
     ]
    }
   ],
   "source": [
    "#!pip install textstat\n",
    "import textstat\n",
    "with open(\"llama3_11_sentences_cleaned.txt\", 'r', encoding='utf-8') as f:\n",
    "    preds = f.readlines()\n",
    "text = f\" \".join(preds)\n",
    "fkgl = textstat.flesch_kincaid_grade(text)\n",
    "print(fkgl)"
   ]
  }
 ],
 "metadata": {
  "kernelspec": {
   "display_name": "base",
   "language": "python",
   "name": "python3"
  },
  "language_info": {
   "codemirror_mode": {
    "name": "ipython",
    "version": 3
   },
   "file_extension": ".py",
   "mimetype": "text/x-python",
   "name": "python",
   "nbconvert_exporter": "python",
   "pygments_lexer": "ipython3",
   "version": "3.9.13"
  }
 },
 "nbformat": 4,
 "nbformat_minor": 2
}
